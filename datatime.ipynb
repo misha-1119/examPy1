{
 "cells": [
  {
   "cell_type": "code",
   "execution_count": 36,
   "metadata": {},
   "outputs": [],
   "source": [
    "import datetime\n",
    "\n",
    "def convert_date(input_date, input_format, output_format):\n",
    "  \"\"\"Конвертує дату з одного формату в інший.\n",
    "\n",
    "  Аргументи:\n",
    "    input_date: Вхідна дата у форматі `input_format`.\n",
    "    input_format: Формат вхідної дати.\n",
    "    output_format: Формат вихідної дати.\n",
    "\n",
    "  Повертає:\n",
    "    Вихідну дату у форматі `output_format`.\n",
    "  \"\"\"\n",
    "\n",
    "  try:\n",
    "    input_date = datetime.datetime.strptime(input_date, input_format)\n",
    "  except ValueError:\n",
    "    raise ValueError(\n",
    "        f\"Невірний формат вхідної дати. Очікується формат {input_format}\")\n",
    "\n",
    "  return input_date.strftime(output_format)\n"
   ]
  },
  {
   "cell_type": "code",
   "execution_count": 37,
   "metadata": {},
   "outputs": [
    {
     "name": "stdout",
     "output_type": "stream",
     "text": [
      "Дата у форматі '%Y-%m-%d': 2009-09-09\n"
     ]
    }
   ],
   "source": [
    "def main():\n",
    "  input_date = input(\"Введіть дату у форматі 'день/місяць/рік': \")\n",
    "  input_format = \"%d/%m/%Y\"\n",
    "  output_format = \"%Y-%m-%d\"\n",
    "\n",
    "  output_date = convert_date(input_date, input_format, output_format)\n",
    "  print(f\"Дата у форматі '{output_format}': {output_date}\")\n",
    "\n",
    "\n",
    "if __name__ == \"__main__\":\n",
    "  main()\n"
   ]
  }
 ],
 "metadata": {
  "kernelspec": {
   "display_name": "Python 3.12.0 64-bit",
   "language": "python",
   "name": "python3"
  },
  "language_info": {
   "codemirror_mode": {
    "name": "ipython",
    "version": 3
   },
   "file_extension": ".py",
   "mimetype": "text/x-python",
   "name": "python",
   "nbconvert_exporter": "python",
   "pygments_lexer": "ipython3",
   "version": "3.12.0"
  },
  "orig_nbformat": 4,
  "vscode": {
   "interpreter": {
    "hash": "aee8b7b246df8f9039afb4144a1f6fd8d2ca17a180786b69acc140d282b71a49"
   }
  }
 },
 "nbformat": 4,
 "nbformat_minor": 2
}
